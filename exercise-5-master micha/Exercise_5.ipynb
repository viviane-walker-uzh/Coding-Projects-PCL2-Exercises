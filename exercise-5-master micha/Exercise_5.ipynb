{
 "cells": [
  {
   "cell_type": "markdown",
   "metadata": {
    "id": "qXY3P2S8ofd9"
   },
   "source": [
    "# Exercise 5\n",
    "\n",
    "Authors: Micha David Hess, Viviane Walker\n",
    "\n",
    "Matriculation-Numbers: 20-719-183, 18-719-070"
   ]
  },
  {
   "cell_type": "markdown",
   "metadata": {
    "id": "qL-SzOSToLKP"
   },
   "source": [
    "## Task 1: Pandas and seaborn"
   ]
  },
  {
   "cell_type": "markdown",
   "metadata": {
    "id": "kRYed3Czaizh"
   },
   "source": [
    "In this exercise, you will familiarize yourself with the modules pandas and seaborn.\n",
    "\n",
    "### What are pandas and seaborn?\n",
    "\n",
    "Pandas is a Python library, which is used for working with data sets. It has many functions that make manipulating and analyzing data easier.\n",
    "\n",
    "Seaborn is a python library based on matplotlib. It allows you to create good-looking graphs and visualizations easily, and it's well-suited to working with panda data frames.\n",
    "\n",
    "\n",
    "### Dataset\n",
    "\n",
    "The dataset we are analyzing is called '[University students by year, ISCED field, sex and level of study](https://www.bfs.admin.ch/bfs/en/home/statistics/catalogues-databases/data.assetdetail.21884445.html)' and comes from the Bundesamt für Statistik. We provided you with a file called `student_data.csv`, which contains the data for the last ten years.\n",
    "\n",
    "### Solving this task\n",
    "\n",
    "Work through this Jupyter notebook, making sure to run each code panel before moving on to the next. Read the descriptions carefully and fill in where there's a #TODO."
   ]
  },
  {
   "cell_type": "code",
   "execution_count": 2,
   "metadata": {},
   "outputs": [],
   "source": [
    "# !pip3 install pandas\n",
    "# !pip3 install seaborn"
   ]
  },
  {
   "cell_type": "code",
   "execution_count": 3,
   "metadata": {
    "id": "OMbxLu47OzGE"
   },
   "outputs": [],
   "source": [
    "\"\"\" Run this import statement once, so that you have all the packages available to you. \"\"\"\n",
    "\n",
    "import pandas as pd\n",
    "import seaborn as sns\n",
    "import matplotlib.pyplot as plt\n",
    "import numpy as np"
   ]
  },
  {
   "cell_type": "markdown",
   "metadata": {
    "id": "kzAAnR7mRbH6"
   },
   "source": [
    "### 1.1 Read in the data\n",
    "\n",
    "Read in the data, creating a [pandas data frame](https://www.w3schools.com/python/pandas/pandas_dataframes.asp). Don't forget to open the file you want to work with. You can use the function [pd.read_csv](https://pandas.pydata.org/docs/reference/api/pandas.read_csv.html) to do so. If you run into trouble with pandas not separating the columns/rows correctly, look at your file in a different program and then specify the separator that is being used.\n",
    "\n",
    "You can use data_frame.head() to print the first few lines and see what the data structure looks like."
   ]
  },
  {
   "cell_type": "code",
   "execution_count": 4,
   "metadata": {
    "colab": {
     "base_uri": "https://localhost:8080/"
    },
    "id": "gYUeyuxRqJMe",
    "outputId": "fa9d393e-2cfb-4edd-d6b0-3e147b69e610"
   },
   "outputs": [],
   "source": [
    "\n",
    "with open(\"student_data.csv\", \"r\", encoding=\"utf-8\") as f1:\n",
    "    df = pd.read_csv(f1, sep=\";\")\n",
    "# df.head()"
   ]
  },
  {
   "cell_type": "markdown",
   "metadata": {
    "id": "WtnZ1sgihr4n"
   },
   "source": [
    "### 1.2 Students by level of study\n",
    "\n",
    "Now we will have a look at the data. \n",
    "\n",
    "1. How many Bachelor's, Master's and Doctorate students were there each year (across all subjects)? You can use the pandas function '[groupby](https://www.geeksforgeeks.org/pandas-groupby/)' to do this.\n",
    "2. Visualize this data using a [seaborn lineplot](https://seaborn.pydata.org/generated/seaborn.lineplot.html), so that you can see how the student numbers changed over the years."
   ]
  },
  {
   "cell_type": "code",
   "execution_count": 5,
   "metadata": {},
   "outputs": [
    {
     "data": {
      "text/html": [
       "<div>\n",
       "<style scoped>\n",
       "    .dataframe tbody tr th:only-of-type {\n",
       "        vertical-align: middle;\n",
       "    }\n",
       "\n",
       "    .dataframe tbody tr th {\n",
       "        vertical-align: top;\n",
       "    }\n",
       "\n",
       "    .dataframe thead th {\n",
       "        text-align: right;\n",
       "    }\n",
       "</style>\n",
       "<table border=\"1\" class=\"dataframe\">\n",
       "  <thead>\n",
       "    <tr style=\"text-align: right;\">\n",
       "      <th></th>\n",
       "      <th>Year</th>\n",
       "      <th>ISCED Field</th>\n",
       "      <th>Sex</th>\n",
       "      <th>Bachelor</th>\n",
       "      <th>Master</th>\n",
       "      <th>Doctorate</th>\n",
       "    </tr>\n",
       "  </thead>\n",
       "  <tbody>\n",
       "    <tr>\n",
       "      <th>0</th>\n",
       "      <td>2012/13</td>\n",
       "      <td>Education science</td>\n",
       "      <td>Male</td>\n",
       "      <td>115</td>\n",
       "      <td>89</td>\n",
       "      <td>103</td>\n",
       "    </tr>\n",
       "    <tr>\n",
       "      <th>1</th>\n",
       "      <td>2012/13</td>\n",
       "      <td>Education science</td>\n",
       "      <td>Female</td>\n",
       "      <td>584</td>\n",
       "      <td>380</td>\n",
       "      <td>220</td>\n",
       "    </tr>\n",
       "    <tr>\n",
       "      <th>2</th>\n",
       "      <td>2012/13</td>\n",
       "      <td>Teacher training without subject specialisation</td>\n",
       "      <td>Male</td>\n",
       "      <td>144</td>\n",
       "      <td>61</td>\n",
       "      <td>12</td>\n",
       "    </tr>\n",
       "    <tr>\n",
       "      <th>3</th>\n",
       "      <td>2012/13</td>\n",
       "      <td>Teacher training without subject specialisation</td>\n",
       "      <td>Female</td>\n",
       "      <td>688</td>\n",
       "      <td>483</td>\n",
       "      <td>31</td>\n",
       "    </tr>\n",
       "    <tr>\n",
       "      <th>4</th>\n",
       "      <td>2012/13</td>\n",
       "      <td>Teacher training with subject specialisation</td>\n",
       "      <td>Male</td>\n",
       "      <td>771</td>\n",
       "      <td>356</td>\n",
       "      <td>23</td>\n",
       "    </tr>\n",
       "    <tr>\n",
       "      <th>...</th>\n",
       "      <td>...</td>\n",
       "      <td>...</td>\n",
       "      <td>...</td>\n",
       "      <td>...</td>\n",
       "      <td>...</td>\n",
       "      <td>...</td>\n",
       "    </tr>\n",
       "    <tr>\n",
       "      <th>815</th>\n",
       "      <td>2021/22</td>\n",
       "      <td>Pharmacy</td>\n",
       "      <td>Female</td>\n",
       "      <td>954</td>\n",
       "      <td>428</td>\n",
       "      <td>134</td>\n",
       "    </tr>\n",
       "    <tr>\n",
       "      <th>816</th>\n",
       "      <td>2021/22</td>\n",
       "      <td>Social work and counselling</td>\n",
       "      <td>Male</td>\n",
       "      <td>29</td>\n",
       "      <td>16</td>\n",
       "      <td>4</td>\n",
       "    </tr>\n",
       "    <tr>\n",
       "      <th>817</th>\n",
       "      <td>2021/22</td>\n",
       "      <td>Social work and counselling</td>\n",
       "      <td>Female</td>\n",
       "      <td>125</td>\n",
       "      <td>43</td>\n",
       "      <td>5</td>\n",
       "    </tr>\n",
       "    <tr>\n",
       "      <th>818</th>\n",
       "      <td>2021/22</td>\n",
       "      <td>Military and defence</td>\n",
       "      <td>Male</td>\n",
       "      <td>43</td>\n",
       "      <td>0</td>\n",
       "      <td>0</td>\n",
       "    </tr>\n",
       "    <tr>\n",
       "      <th>819</th>\n",
       "      <td>2021/22</td>\n",
       "      <td>Military and defence</td>\n",
       "      <td>Female</td>\n",
       "      <td>5</td>\n",
       "      <td>0</td>\n",
       "      <td>0</td>\n",
       "    </tr>\n",
       "  </tbody>\n",
       "</table>\n",
       "<p>820 rows × 6 columns</p>\n",
       "</div>"
      ],
      "text/plain": [
       "        Year                                      ISCED Field     Sex  \\\n",
       "0    2012/13                                Education science    Male   \n",
       "1    2012/13                                Education science  Female   \n",
       "2    2012/13  Teacher training without subject specialisation    Male   \n",
       "3    2012/13  Teacher training without subject specialisation  Female   \n",
       "4    2012/13     Teacher training with subject specialisation    Male   \n",
       "..       ...                                              ...     ...   \n",
       "815  2021/22                                         Pharmacy  Female   \n",
       "816  2021/22                      Social work and counselling    Male   \n",
       "817  2021/22                      Social work and counselling  Female   \n",
       "818  2021/22                             Military and defence    Male   \n",
       "819  2021/22                             Military and defence  Female   \n",
       "\n",
       "     Bachelor  Master  Doctorate  \n",
       "0         115      89        103  \n",
       "1         584     380        220  \n",
       "2         144      61         12  \n",
       "3         688     483         31  \n",
       "4         771     356         23  \n",
       "..        ...     ...        ...  \n",
       "815       954     428        134  \n",
       "816        29      16          4  \n",
       "817       125      43          5  \n",
       "818        43       0          0  \n",
       "819         5       0          0  \n",
       "\n",
       "[820 rows x 6 columns]"
      ]
     },
     "execution_count": 5,
     "metadata": {},
     "output_type": "execute_result"
    }
   ],
   "source": [
    "df"
   ]
  },
  {
   "cell_type": "code",
   "execution_count": 6,
   "metadata": {
    "id": "4DTeNgTkE-qO"
   },
   "outputs": [
    {
     "data": {
      "text/plain": [
       "([0, 1, 2, 3, 4, 5, 6, 7, 8, 9],\n",
       " [Text(0, 0, ''),\n",
       "  Text(0, 0, ''),\n",
       "  Text(0, 0, ''),\n",
       "  Text(0, 0, ''),\n",
       "  Text(0, 0, ''),\n",
       "  Text(0, 0, ''),\n",
       "  Text(0, 0, ''),\n",
       "  Text(0, 0, ''),\n",
       "  Text(0, 0, ''),\n",
       "  Text(0, 0, '')])"
      ]
     },
     "execution_count": 6,
     "metadata": {},
     "output_type": "execute_result"
    },
    {
     "data": {
      "image/png": "[encoded data removed]",
      "text/plain": [
       "<Figure size 432x288 with 1 Axes>"
      ]
     },
     "metadata": {
      "needs_background": "light"
     },
     "output_type": "display_data"
    }
   ],
   "source": [
    "# groupby() function\n",
    "vis = df.groupby([\"Year\"])\n",
    "# print(vis) # is a data frame groupby object\n",
    "vis2 = vis.aggregate(np.sum)\n",
    "# vis2\n",
    "\n",
    "# # visualization with seaborn as sns\n",
    "sns.lineplot(data=vis2)\n",
    "plt.xticks(rotation=75)\n",
    "\n",
    "# # or:\n",
    "# xy = sns.lineplot(data=vis2)\n",
    "# xy.tick_params(axis=\"x\", rotaion=90)\n"
   ]
  },
  {
   "cell_type": "markdown",
   "metadata": {
    "id": "CAE2iSdCbCxH"
   },
   "source": [
    "### 1.3 Students of Year 2021/22\n",
    "\n",
    "Now we only want to look at the students from the year 2021/22.\n",
    "1. Make a new table only containing the students of year 2021/22.\n",
    "2. Add a column called 'sum', containing the sum of all Bachelor, Master and Doctorate students for each subject respectively.\n",
    "3. Make a [bar plot](https://seaborn.pydata.org/generated/seaborn.barplot.html) using seaborn, so that you can compare the different subjects in terms of student numbers. Which subject had the most students? Which one the fewest?"
   ]
  },
  {
   "cell_type": "code",
   "execution_count": 17,
   "metadata": {
    "id": "DUA9RH4MFcn1"
   },
   "outputs": [
    {
     "name": "stderr",
     "output_type": "stream",
     "text": [
      "/var/folders/vp/74tmsgvx2k3c175h0tdtvswr0000gn/T/ipykernel_8907/871252431.py:17: SettingWithCopyWarning: \n",
      "A value is trying to be set on a copy of a slice from a DataFrame.\n",
      "Try using .loc[row_indexer,col_indexer] = value instead\n",
      "\n",
      "See the caveats in the documentation: https://pandas.pydata.org/pandas-docs/stable/user_guide/indexing.html#returning-a-view-versus-a-copy\n",
      "  df3['sum']= df3.iloc[:, -3:].sum(axis=1)\n"
     ]
    },
    {
     "data": {
      "text/plain": [
       "<AxesSubplot:xlabel='sum', ylabel='ISCED Field'>"
      ]
     },
     "execution_count": 17,
     "metadata": {},
     "output_type": "execute_result"
    },
    {
     "data": {
      "image/png": "[encoded data removed]",
      "text/plain": [
       "<Figure size 1080x936 with 1 Axes>"
      ]
     },
     "metadata": {
      "needs_background": "light"
     },
     "output_type": "display_data"
    }
   ],
   "source": [
    "# also have a look at what we are working with:\n",
    "# df\n",
    "\n",
    "df2 = df[df[\"Year\"]==\"2021/22\"]\n",
    "\n",
    "# df3 = df2.groupby(\"ISCED Field\").aggregate(np.sum) # no grouping... I hope this is not wrong\n",
    "df3 = df2\n",
    "\n",
    "\n",
    "## Option A, not working\n",
    "# df3_sum = df[\"Bachelor\"] + df[\"Master\"] + df[\"Doctorate\"] # --> this did not work, why?, idk\n",
    "# df3[\"sum\"] = 0 # apparently you first have to set the value to 0, otherwise pandas assign the column values to NaN\n",
    "# # df3[\"sum\"] = df3_sum\n",
    "\n",
    "## Option B, works, for ALL columns and for specific columns\n",
    "# df3['sum']= df3.sum(axis=1) #this function applies to all column, if you only want to apply it to certain columns:\n",
    "df3['sum']= df3.iloc[:, -3:].sum(axis=1)\n",
    "# print(type(df3))\n",
    "\n",
    "\n",
    "###\n",
    "# df3[\"ISCED Field\"].dtype() #is a index type?? this attribute did not work though. -->\n",
    "# df_2 = df.groupby('A').sum()\n",
    "# df_2.reset_index(inplace=True)\n",
    "# sns.barplot(x='A', y='B', data=df_2);\n",
    "###\n",
    "\n",
    "# visualization with seaborn as sns\n",
    "# sns.barplot(y=\"sum\", x=\"ISCED Field\", data=df3, ci=None)\n",
    "# plt.xticks(rotation=90) # this rotates the labels, since there are a lot of labels, they overlapped each other\n",
    "# plt.tight_layout() # setting the layout to tight.\n",
    "\n",
    "# # or:\n",
    "# plt.figure(figsize=(15,13))\n",
    "# sns.barplot(y=\"ISCED Field\", x=\"sum\", data=df3, ci=None)\n",
    "\n",
    "# most students: Management and administration\n",
    "# least students: Forestry"
   ]
  },
  {
   "cell_type": "markdown",
   "metadata": {
    "id": "sxswjaOrrvzo"
   },
   "source": [
    "\n",
    "### 1.4 Gender distribution\n",
    "\n",
    "1. The data set also includes data on the legal gender/sex of the students. Select five different subjects, and plot them in a way so you can compare the development over the years. You can be creative with it: You can compare the absolute numbers, compare the gender ratio and/or compare the different subjects to each other.\n",
    "2. What is something interesting you've discovered by visualizing the data this way? Did it help you to better understand the data?\n",
    "3. A very cool feature of seaborn are the ways in which you can customize the [look of your plots](http://seaborn.pydata.org/tutorial/aesthetics.html). Try out some different colors and styles on your plots. :)\n",
    "\n",
    "\n"
   ]
  },
  {
   "cell_type": "code",
   "execution_count": 56,
   "metadata": {
    "id": "-BabcYoKGATr"
   },
   "outputs": [
    {
     "data": {
      "text/plain": [
       "(array([0, 1, 2, 3]),\n",
       " [Text(0, 0, 'Psychology'),\n",
       "  Text(1, 0, 'Biology'),\n",
       "  Text(2, 0, 'Philosophy and ethics'),\n",
       "  Text(3, 0, 'Earth sciences')])"
      ]
     },
     "execution_count": 56,
     "metadata": {},
     "output_type": "execute_result"
    },
    {
     "data": {
      "image/png": "[encoded data removed]",
      "text/plain": [
       "<Figure size 360x360 with 1 Axes>"
      ]
     },
     "metadata": {
      "needs_background": "light"
     },
     "output_type": "display_data"
    },
    {
     "data": {
      "image/png": "[encoded data removed]",
      "text/plain": [
       "<Figure size 360x360 with 1 Axes>"
      ]
     },
     "metadata": {
      "needs_background": "light"
     },
     "output_type": "display_data"
    }
   ],
   "source": [
    "df4 = df[[\"Year\", \"ISCED Field\", \"Sex\"]]\n",
    "\n",
    "psy = df4[df4[\"ISCED Field\"] == \"Psychology\"]\n",
    "bio = df4[df4[\"ISCED Field\"] == \"Biology\"]\n",
    "phil = df4[df4[\"ISCED Field\"] == \"Philosophy and ethics\"]\n",
    "earth = df4[df4[\"ISCED Field\"] == \"Earth sciences\"]\n",
    "hist = df4[df4[\"ISCED Field\"] == \"History and archeology\"]\n",
    "\n",
    "merged = psy.append([bio, phil, earth, hist])\n",
    "# print(merged)\n",
    "\n",
    "merged2 = merged[[\"Year\", \"Sex\"]]\n",
    "merged3 = merged2.groupby(\"Year\")\n",
    "# print(type(merged3[\"Sex\"])) # is a series\n",
    "\n",
    "\n",
    "sns.catplot(x=\"Sex\", y=\"Year\", order=[\"Female\", \"Male\"], data=merged2)\n",
    "# 3. --> trying to plot the column \"Sex\" made me realize that I cannot use aggregate nor np.sum on this column, BECAUE\n",
    "# it is a categorical or series type of column. therefore, scatterplot are much more convenient for this type of column.\n",
    "\n",
    "# or:\n",
    "sns.catplot(x=\"ISCED Field\", y=\"Year\", kind=\"strip\", data=merged)\n",
    "plt.tight_layout()\n",
    "plt.xticks(rotation=75)\n",
    "\n",
    "# or:\n",
    "# kind=\"box\", \"count\", \"point\", \"violin\", \"bar\" all do not work because neither x nor y are numerical (they are categorical).\n",
    "\n",
    "\n"
   ]
  },
  {
   "cell_type": "markdown",
   "metadata": {
    "id": "Y5lXtlyklPWZ"
   },
   "source": [
    "## Task 2: Writing a README\n",
    "\n",
    "A good README or documentation is key to your program or package being used properly or being used at all. But as you know, some documentations are a pain to work through. There are some conventional guidelines you can follow, to ensure that your documentation is as precise and short as possible.\n",
    "\n",
    "In this task, you will practise writing a README within a given maximum number of sentences. Keep it simple and short. Have a look at the code in the cell below. Try to run it and understand how it works. Once you grasped the idea and workings of the code, write a README following the given structure."
   ]
  },
  {
   "cell_type": "code",
   "execution_count": 2,
   "metadata": {
    "id": "JRvGY-GWmX1H"
   },
   "outputs": [
    {
     "name": "stdout",
     "output_type": "stream",
     "text": [
      "\n",
      "---------------\n",
      "Order 1\n",
      "---------------\n",
      "Your order:\n",
      "Price: 6.00 €\n",
      "Thank you for your order!\n"
     ]
    }
   ],
   "source": [
    "#!/usr/bin/env python3\n",
    "\n",
    "# Author: Giovanna Gelata\n",
    "\n",
    "\n",
    "\n",
    "class Gelateria:\n",
    "\n",
    "    food_type = 'ice cream'\n",
    "\n",
    "    def __init__(self, name: str, location: str):\n",
    "        self.name = name\n",
    "        self.location = location\n",
    "        self._flavours = list()\n",
    "        self._price = 1.00\n",
    "        self._order_number = 1\n",
    "\n",
    "\n",
    "    def add_flavours(self, flavours):\n",
    "        if type(flavours) == str:\n",
    "            if flavours in self._flavours:\n",
    "                print(f'Flavour \"{flavours}\" is already in the system.')\n",
    "            else:\n",
    "                self._flavours.append(flavours)\n",
    "        elif type(flavours) == list:\n",
    "            for flavour in flavours:\n",
    "                if flavour in self._flavours:\n",
    "                    print(f'Flavour \"{flavour}\" is already in the system.')\n",
    "                else:\n",
    "                    self._flavours.append(flavour)\n",
    "\n",
    "\n",
    "    def _calculate_price(self, number_of_scoops: int):\n",
    "        return number_of_scoops * self._price\n",
    "\n",
    "\n",
    "    def take_order(self):\n",
    "        order = dict()\n",
    "        count_ice = 0\n",
    "        price = 0\n",
    "        print()\n",
    "        print('-'*15)\n",
    "        print(f'Order {self._order_number}')\n",
    "        print('-'*15)\n",
    "        print('Your order:')\n",
    "        add_more = None\n",
    "\n",
    "        while add_more != 'q':\n",
    "            count_ice += 1\n",
    "            flavours = input('Flavours separated by commas: * ').split(\",\")\n",
    "            # print(flavours)\n",
    "            for flav in flavours:\n",
    "                flav_clean = flav.strip()\n",
    "                if flav_clean not in self._flavours:\n",
    "                    print(f'Sadly, flavour \\'{flav}\\' is not available.')\n",
    "                    del flavours[flavours.index(flav)]\n",
    "                    continue\n",
    "            amounts = input('Amounts separated by commas: * ').split(\",\")\n",
    "            order[count_ice] = {i: j for i, j in zip(flavours, amounts)}\n",
    "            add_more = input('To add more, press enter. If you\\'re finished, press \\'q\\'. ')\n",
    "\n",
    "        for order_no, it in order.items():\n",
    "            for k, v in it.items():\n",
    "                price += self._calculate_price(float(v))\n",
    "        \n",
    "\n",
    "        print(f'Price: {price}0 €')\n",
    "        print('Thank you for your order!')\n",
    "\n",
    "        self._order_number += 1\n",
    "\n",
    "\n",
    "    def __repr__(self):\n",
    "        string = '\\n'\n",
    "        string += f'Welcome to the gelateria {self.name} from {self.location}!\\n'\n",
    "        string += f'We are happy to serve you. Our hand-made ice cream is made from an original family recipe.\\n'\n",
    "        string += 'We offer the following flavours of ice cream for you to enjoy: \\n'\n",
    "        if self._flavours:\n",
    "            for flav in self._flavours:\n",
    "                string += f'\\t* {flav.capitalize()}\\n'\n",
    "        else:\n",
    "            string += '\\tUnfortunately, we have no flavours available.\\n'\n",
    "        string += 'We are happy to serve you!\\n'\n",
    "        return string\n"
   ]
  },
  {
   "cell_type": "markdown",
   "metadata": {
    "id": "sEbA221C3hhA"
   },
   "source": [
    "Please write your answers in the text cell below."
   ]
  },
  {
   "cell_type": "markdown",
   "metadata": {
    "id": "jsiMILLUmqOK"
   },
   "source": [
    "### Gelateria\n",
    "\n",
    "Author: Giovanna Gelata\n",
    "\n",
    "This project let's the user create objects of the class 'Gelateria' (ice-cream shop). A Gelateria has a name and location, you can add custom flavours to your shop, and of course order ice-cream!  \n",
    "\n",
    "##### **Installation**\n",
    "\n",
    "In order to use the Gelateria class, download (or copy-paste) the code into the directory where you intend to use it, or simply a directory where you want to store your scripts, and save it under a name of your choice (e.g. *my_gelateria.py*).\n",
    "Then, in the code where you intend to create a Gelateria-object, write an import statement for the Gelateria (`from my_gelateria import Gelateria`).\n",
    "**Requires:**\n",
    "-  Python 3.6 or higher (because of the f-strings)\n",
    "\n",
    "##### **Functionalities**\n",
    "\n",
    "To construct a Gelateria, it needs to be called with two parameters:\n",
    "The first argument is the name given to the Gelateria, the second argument is its location. Both arguments should be of type string.\n",
    "    Example:\n",
    "    `gdz = Gelateria('Gelateria di Zurigo', 'Züri')`\n",
    "\n",
    "Gelateria has the following **attributes**:\n",
    "- the **_class attribute_** `food_type` designating what kind of food the Gelateria serves\n",
    "- a name (str): `self.name`\n",
    "- a location (str):             `self.location`\n",
    "- a list of flavours (list):    `self._flavours` \n",
    "- a price (float):              `self._price` \n",
    "- a count of orders (int):      `self._order_number`\n",
    "\n",
    "Gelateria has the following **methods**:\n",
    "- `add_flavours(self, flavours)`:\n",
    "    - can be called with a single string or a list of strings\n",
    "    - adds the given flavour(s) to the object's list of flavours (*self._flavours*)\n",
    "    - won't store duplicate flavours\n",
    "    <br>Example:<br>\n",
    "    `gdz.add_flavours(['Chocolate', 'Pistachio', 'Chocolate-sorbet', 'Blackberry and Hemp'])`\n",
    "- `take_order(self)`:\n",
    "    - is called without any arguments besides `self`\n",
    "    - Will perform as follows:\n",
    "        1. It prints information and instructions to the Command-Line, including the order number. It then tells the user/customer to type in the flavours they want, separated by commas. If a flavour does not exist, a message saying that is printed and that part of the input is ignored.\n",
    "        1. It prompts the user to type in the number of scoops they want for each flavour, separated by commas. The order of flavours is kept the same as in the previous step, excluding non-existent flavours.\n",
    "        1. Presents the user with two additional options:\n",
    "            - Add more flavours, upon which the process jumps back to step **1**.\n",
    "            - Finish the order by inputting `q`, continuing to step **4**\n",
    "        1. Displays the price, which is calculated using the protected function `_calculate_price`, and thanks the user for their order.\n",
    "        1. Increases the order count (`self._order_number`) by 1 .<br>\n",
    "        Example of what such a interaction could look like:<br>\n",
    "        `gdz.take_order()`<br>\n",
    "            ```   \n",
    "            ---------------\n",
    "            Order 1\n",
    "            ---------------\n",
    "            Your order:\n",
    "            Flavours separated by commas: *\n",
    "            ```\n",
    "            \n",
    "            \\>\\>\\> `Chocolate, Chocolate-sorbet` \n",
    "            ```\n",
    "            Amounts separated by commas: *\n",
    "            ```\n",
    "            \\>\\>\\> `1, 5`\n",
    "            ```\n",
    "            To add more, press enter. If you're finished, press 'q'.\n",
    "            ```\n",
    "            \\>\\>\\> `q`\n",
    "            \n",
    "            ```\n",
    "            Price: 6.00 €\n",
    "            Thank you for your order!\n",
    "            ```\n",
    "\n",
    "\n",
    "- `__repr__(self)`:\n",
    "    - Prints a nicely formatted string, which includes the _name_ and _location_ of the Gelateria and the available _flavours_. If there are no flavours available, a string informing the user of that is printed instead. \n",
    "    Example:<br>\n",
    "        `print(gdz)`<br>\n",
    "        ```\n",
    "        Welcome to the gelateria Gelateria di Zurigo from Züri!\n",
    "        We are happy to serve you. Our hand-made ice cream is made from an original family recipe.\n",
    "        We offer the following flavours of ice cream for you to enjoy: \n",
    "        * Chocolate\n",
    "        * Pistachio\n",
    "        * Chocolate-sorbet\n",
    "        * Blackberry and hemp\n",
    "        We are happy to serve you!\n",
    "        ```\n",
    "    \n",
    "\n",
    "\n",
    "\n",
    "##### **Improvements**\n",
    "Some ideas to improve this project:\n",
    "- Making the gelateria a pip-installable module\n",
    "- Letting a user change the flavours of the ice-cream shop, mostly by letting them remove flavours from a Gelateria-object\n",
    "- Fixing the issue of letting a user add non-string flavours in lists\n",
    "- Variable pricing, for example:\n",
    "    - the more scoops, the lower the average price per scoop\n",
    "    - differently priced flavours\n",
    "- Keeping track of stock (currently, ice-cream is infinite)"
   ]
  },
  {
   "cell_type": "markdown",
   "metadata": {},
   "source": [
    "# Feedback\n",
    "\n",
    "Please give us a short feedback on this exercise. You can type in your answers and thoughts into the text boxes below.\n"
   ]
  },
  {
   "cell_type": "markdown",
   "metadata": {},
   "source": [
    "a) How much time did you spend roughly on this exercise?\n",
    "\n",
    "roughly 12 hours"
   ]
  },
  {
   "cell_type": "markdown",
   "metadata": {},
   "source": [
    "b) How difficult was this exercise? Was the difficulty too high, too low or just right?\n",
    "\n",
    "It was one of the easier exercises, even though the topic of Data Analysis can get very complicated very fast.\nIwouldn't say it was too easy however, since it still required quite a bit of docs-reading and thinking."
   ]
  },
  {
   "cell_type": "markdown",
   "metadata": {},
   "source": [
    "c) Do you feel more comfortable now with the topics from the exercise and lectures?\n",
    "\n",
    "Micha's opinion: Only slightly. Obviously, we barely scratched the surface of the topic and the modules we used. So, in order to feel comfortable, a much deeper look about how these packages work, the different classes etc. would be necessary - but way too much for one lecture. Knowing that doing things that are just a bit more advanced than the absolute basics can very soon get overwhelming isn't ideal, but if we're only meant to get a basic idea of what's doable and how some basics work, I think it's fine. \n So yeah, slightly comfortable :)"
   ]
  },
  {
   "cell_type": "markdown",
   "metadata": {
    "id": "HumOutQXoXgy"
   },
   "source": [
    "## Exam Prep – Task 3: Object Oriented Programming"
   ]
  },
  {
   "cell_type": "markdown",
   "metadata": {
    "id": "EPSJguq7Q64v"
   },
   "source": [
    "Note: This is an **optional exercise**, which is similar to something you might encounter in the exam. We will not correct it, but we will give you a sample solution. Feel free to either solve it here or in a seperate .py file.\n",
    "\n"
   ]
  },
  {
   "cell_type": "markdown",
   "metadata": {
    "id": "9DKUNn1eWaII"
   },
   "source": [
    "### Destination Class\n",
    "You want to go sightseeing in Zurich, but there's so much to do! To help you store all the different landmarks, you decide to write a program and create a Python class.\n",
    "\n",
    "In the folder `zurich_sightseeing` you will find five .txt files containing basic information about one destination each. Have a look at the files. You should be able to read them in easily, since they are all structured in the same way.\n",
    "\n",
    "To instanciate a single destination, you call the class as follows:\n",
    "\n",
    "```\n",
    ">>> grossmunster = Destination(\"zurich_sightseeing\\grossmunster\")\n",
    "```\n",
    "\n",
    "You want to easily be able to look at all the information about the destination, so **printing the object** should just return all the information in the .txt file.\n",
    "\n",
    "```\n",
    ">>> print(grossmunster)\n",
    "\n",
    "Grossmünster\n",
    "The Grossmünster church is a landmark of Zurich. Legend has it that the church was built on the graves of the city’s patron saints, Felix and Regula.\n",
    "\n",
    "Distance to Zurich Main Station: 892 m\n",
    "Open on: Mon Tue Wed Thu Fri Sat Sun\n",
    "```\n",
    "\n",
    "When you're planing where to go, you want to be able to compare two destinations on **how far away they are from Zurich Main Station**. You have to be careful, since some distances are in m, others in km.\n",
    "\n",
    "If you want to know if the Grossmünster is further away from the Main Station than the Kunsthaus, you can check like this:\n",
    "\n",
    "\n",
    "\n",
    "```\n",
    ">>> grossmunster > kunsthaus\n",
    "\n",
    "False\n",
    "```\n",
    "\n",
    "When deciding on a day for your trip, it's important to know if the destinations in question are open on the same day! You want to be able to check **if a destination is open on a specific day**, as well as check **what opening days two destinations share with each other**.\n",
    "\n",
    "\n",
    "```\n",
    ">>> grossmunster.open_on(\"Tue\")\n",
    "\n",
    "True\n",
    "\n",
    ">>> grossmunster.shared_opening_days(photobastei)\n",
    "\n",
    "Thu Fri Sat Sun\n",
    "\n",
    "```\n",
    "\n",
    "\n",
    "\n",
    "\n",
    "\n"
   ]
  },
  {
   "cell_type": "markdown",
   "metadata": {
    "id": "K-R9XVKzobMt"
   },
   "source": [
    "## Exam Prep – Task 4: Encodings\n",
    "\n"
   ]
  },
  {
   "cell_type": "markdown",
   "metadata": {
    "id": "tCcu_RInTShV"
   },
   "source": [
    "Note: This is an **optional exercise**, which is similar to something you might encounter in the exam. We will not correct it, but we will give you a sample solution. Feel free to either solve it here or in a seperate .py file."
   ]
  },
  {
   "cell_type": "markdown",
   "metadata": {
    "id": "5CMKC9n-TV4e"
   },
   "source": [
    "### Calculating Prices For Words\n",
    "\n",
    "You got a call from a company who would like to hire you. The company sells many personalizable items such as mugs, clothing or pencils. They offer a wide range of customizability, but recently they got many complaints about names or words that contain non-ASCII characters or are simply too long to fit (sadly, the company is not too progressive with non-European names, yet). The company is now planning to widen the options for the customers, but of course, it doesn't come for free. Depending on the personalizzation, prices vary. Your job is to write a program that calculates the prices for the items according to length of word(s) and number of non-ASCII characters.\n",
    "\n",
    "First of all, create a class, which takes any string as input. The string can include non-ASCII characters and emojis. To calculate the final price, you need to calculate the 'length-weight' first. Alter the \\_\\_len__ method in a way, that it returns your own calculated length, instead of the Python defaulted one. The method should be callable like this:\n",
    "\n",
    "```\n",
    "# how it should be\n",
    ">>> name = Personalize('Ali Smith')\n",
    ">>> len(name)\n",
    "8\n",
    "```\n",
    "\n",
    "Since printing non-standard characters is more work (according to the printing company), the price of a string varies depending on its characters. Your boss gave you some rules that your program should follow:\n",
    "\n",
    "* Whitespaces don't count\n",
    "* ASCII characters count 1 each\n",
    "* ASCII characters with accents count 1 each\n",
    "* Emojis count 2 each\n",
    "* Characters outside the Latin writing system count 3 each\n",
    "\n",
    "A call of the len-function could look like the following: \n",
    "```\n",
    "# how it should be\n",
    ">>> name = Personalize('Ali Smith 🌈')\n",
    ">>> len(name)\n",
    "10\n",
    "```\n",
    "#### Emojis\n",
    "\n",
    "To calculate the weight of emojis, some further processing is needed. As emojis get more features, single glyphs are not enough anymore. Some emojis require many pieces. The different 'sub-emojis' are connected by the so-called *zero-width* character '\\u200d'. If this character is present, you can assume that the whole emoji-string belongs together.\n",
    "\n",
    "```\n",
    "# example of Python's default\n",
    ">>> text = '👰🏾‍♂️'\n",
    ">>> [char for char in text]\n",
    "['👰', '🏾', '\\u200d', '♂', '️']\n",
    ">>> t2 = '🏐💗'\n",
    ">>> [char for char in t2]\n",
    "['🏐', '💗']  # as you can see, no zero-with character is used\n",
    "```\n",
    "\n",
    "Especially for person emojis, sex and skintone can be modified. By default, Python counts the modifying codepoints and adds them up. For example, one single emoji can have a length of five.\n",
    "\n",
    "```\n",
    "# how it should NOT be\n",
    ">>> text = '👰🏾‍♂️'\n",
    ">>> len(text)  # see the cope snipped above for reference\n",
    "5\n",
    "```\n",
    "\n",
    "Such customizations should not cost extra, since the 'length' of the emoji is not affected – no matter which sex or skintone it has, the emoji is always one glyph. For sex, emojis can have the attribute ♀, ♂ or nothing. The five available skintones are:\n",
    "* 🏻\n",
    "* 🏼\n",
    "* 🏽\n",
    "* 🏾\n",
    "* 🏿\n",
    "\n",
    "None of them should increase the price. Thus, your code should output the following:\n",
    "\n",
    "```\n",
    "# how it should be\n",
    ">>> emoji = Personalize('👰🏾‍♂️')\n",
    ">>> len(emoji)\n",
    "2\n",
    "\n",
    "```\n",
    "\n",
    "For the exercise, you might want to use the [emoji](https://pypi.org/project/emoji/) module. Especially the attribute EMOJI_DATA could come in very handy. Have a look at its value(s).\n",
    "\n",
    "#### Non-Latin Writing Systems\n",
    "\n",
    "For any character which cannot be encoded in Latin-1, the count should increase by 3. See the examples below.\n",
    "\n",
    "\n",
    "#### Calculating\n",
    "Lastly, write a function that returns a price to the user according to input. The item should be defined at instantiation of the class.\n",
    "\n",
    "```\n",
    ">>> name = Personalized('Ali Smith', 'mug')\n",
    "```\n",
    "\n",
    "Don't forget to add the prices for the items that should be personalized. To do so, use the dictionary in the code cell below. The new calculated length is the price in any currency you like. Make a nice interface that returns a type of receipt for the user. All characters, their prices and the final price should be enlisted.\n",
    "\n",
    "### Examples\n",
    "The following examples might help to understand the workings of the functions further.\n",
    "\n",
    "```\n",
    ">>> name_jp = Personalize('莉子', 'notebook')\n",
    ">>> len(name_jp)\n",
    "6\n",
    ">>> calculate_price(name_jp)\n",
    "16 CHF\n",
    "\n",
    "```\n",
    "\n",
    "\n",
    "```\n",
    ">>> name_fr = Personalize('Allez les bleus! Olé', 'cap')\n",
    ">>> calculate_price(name_fr)\n",
    "32 CHF\n",
    "\n",
    "```\n",
    "\n",
    "```\n",
    ">>> name_emojis = Personalize('Anaïs 👱🏼‍♀️🍋', 'flag')\n",
    ">>> calculate_price(name_emojis)\n",
    "39\n",
    "```"
   ]
  },
  {
   "cell_type": "code",
   "execution_count": null,
   "metadata": {
    "id": "F13LdzLYzmC4"
   },
   "outputs": [],
   "source": [
    "pricing = {\n",
    "    'mug': 10,\n",
    "    't-shirt': 20,\n",
    "    'notebook': 5,\n",
    "    'waterbottle': 45,\n",
    "    'drinking glass': 10,\n",
    "    'pencil': 3,\n",
    "    'backpack': 80,\n",
    "    'cap': 15,\n",
    "    'flag': 30,\n",
    "    'ferrari': 400000\n",
    "}"
   ]
  }
 ],
 "metadata": {
  "colab": {
   "collapsed_sections": [
    "qL-SzOSToLKP",
    "Y5lXtlyklPWZ",
    "HumOutQXoXgy"
   ],
   "name": "ex05_solutions.ipynb",
   "provenance": []
  },
  "kernelspec": {
   "display_name": "Python 3 (ipykernel)",
   "language": "python",
   "name": "python3"
  },
  "language_info": {
   "codemirror_mode": {
    "name": "ipython",
    "version": 3
   },
   "file_extension": ".py",
   "mimetype": "text/x-python",
   "name": "python",
   "nbconvert_exporter": "python",
   "pygments_lexer": "ipython3",
   "version": "3.9.12"
  }
 },
 "nbformat": 4,
 "nbformat_minor": 1
}
